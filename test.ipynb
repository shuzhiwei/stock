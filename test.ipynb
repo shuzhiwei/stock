{
 "metadata": {
  "language_info": {
   "codemirror_mode": {
    "name": "ipython",
    "version": 3
   },
   "file_extension": ".py",
   "mimetype": "text/x-python",
   "name": "python",
   "nbconvert_exporter": "python",
   "pygments_lexer": "ipython3",
   "version": "3.8.1-final"
  },
  "orig_nbformat": 2,
  "kernelspec": {
   "name": "python_defaultSpec_1602225269420",
   "display_name": "Python 3.8.1 64-bit"
  }
 },
 "nbformat": 4,
 "nbformat_minor": 2,
 "cells": [
  {
   "cell_type": "code",
   "execution_count": 1,
   "metadata": {},
   "outputs": [],
   "source": [
    "from pytdx.hq import TdxHq_API\n",
    "api = TdxHq_API()"
   ]
  },
  {
   "cell_type": "code",
   "execution_count": 5,
   "metadata": {},
   "outputs": [],
   "source": [
    "with api.connect('119.147.212.81', 7709):\n",
    "    data = api.to_df(api.get_security_bars(9, 0, '000001', 0, 10))\n",
    "    data1 = api.get_security_quotes([(0, '000001'), (1, '600300')])"
   ]
  },
  {
   "cell_type": "code",
   "execution_count": 4,
   "metadata": {},
   "outputs": [
    {
     "output_type": "execute_result",
     "data": {
      "text/plain": "    open  close   high    low        vol        amount  year  month  day  \\\n0  15.62  16.07  16.09  15.52  1373193.0  2.186759e+09  2020      9   18   \n1  16.00  15.86  16.05  15.71   896161.0  1.418371e+09  2020      9   21   \n2  15.67  15.57  15.84  15.39   867756.0  1.354536e+09  2020      9   22   \n3  15.59  15.63  15.83  15.51   599200.0  9.397633e+08  2020      9   23   \n4  15.59  15.12  15.61  15.12  1061011.0  1.623376e+09  2020      9   24   \n5  15.20  15.19  15.31  15.11   614087.0  9.330351e+08  2020      9   25   \n6  15.19  15.31  15.37  14.98   612711.0  9.328008e+08  2020      9   28   \n7  15.39  14.80  15.41  14.76  1182374.0  1.766849e+09  2020      9   29   \n8  14.80  15.17  15.27  14.80  1217064.0  1.838548e+09  2020      9   30   \n9  15.30  15.16  15.55  15.15   812136.0  1.243175e+09  2020     10    9   \n\n   hour  minute          datetime  \n0    15       0  2020-09-18 15:00  \n1    15       0  2020-09-21 15:00  \n2    15       0  2020-09-22 15:00  \n3    15       0  2020-09-23 15:00  \n4    15       0  2020-09-24 15:00  \n5    15       0  2020-09-25 15:00  \n6    15       0  2020-09-28 15:00  \n7    15       0  2020-09-29 15:00  \n8    15       0  2020-09-30 15:00  \n9    15       0  2020-10-09 15:00  ",
      "text/html": "<div>\n<style scoped>\n    .dataframe tbody tr th:only-of-type {\n        vertical-align: middle;\n    }\n\n    .dataframe tbody tr th {\n        vertical-align: top;\n    }\n\n    .dataframe thead th {\n        text-align: right;\n    }\n</style>\n<table border=\"1\" class=\"dataframe\">\n  <thead>\n    <tr style=\"text-align: right;\">\n      <th></th>\n      <th>open</th>\n      <th>close</th>\n      <th>high</th>\n      <th>low</th>\n      <th>vol</th>\n      <th>amount</th>\n      <th>year</th>\n      <th>month</th>\n      <th>day</th>\n      <th>hour</th>\n      <th>minute</th>\n      <th>datetime</th>\n    </tr>\n  </thead>\n  <tbody>\n    <tr>\n      <th>0</th>\n      <td>15.62</td>\n      <td>16.07</td>\n      <td>16.09</td>\n      <td>15.52</td>\n      <td>1373193.0</td>\n      <td>2.186759e+09</td>\n      <td>2020</td>\n      <td>9</td>\n      <td>18</td>\n      <td>15</td>\n      <td>0</td>\n      <td>2020-09-18 15:00</td>\n    </tr>\n    <tr>\n      <th>1</th>\n      <td>16.00</td>\n      <td>15.86</td>\n      <td>16.05</td>\n      <td>15.71</td>\n      <td>896161.0</td>\n      <td>1.418371e+09</td>\n      <td>2020</td>\n      <td>9</td>\n      <td>21</td>\n      <td>15</td>\n      <td>0</td>\n      <td>2020-09-21 15:00</td>\n    </tr>\n    <tr>\n      <th>2</th>\n      <td>15.67</td>\n      <td>15.57</td>\n      <td>15.84</td>\n      <td>15.39</td>\n      <td>867756.0</td>\n      <td>1.354536e+09</td>\n      <td>2020</td>\n      <td>9</td>\n      <td>22</td>\n      <td>15</td>\n      <td>0</td>\n      <td>2020-09-22 15:00</td>\n    </tr>\n    <tr>\n      <th>3</th>\n      <td>15.59</td>\n      <td>15.63</td>\n      <td>15.83</td>\n      <td>15.51</td>\n      <td>599200.0</td>\n      <td>9.397633e+08</td>\n      <td>2020</td>\n      <td>9</td>\n      <td>23</td>\n      <td>15</td>\n      <td>0</td>\n      <td>2020-09-23 15:00</td>\n    </tr>\n    <tr>\n      <th>4</th>\n      <td>15.59</td>\n      <td>15.12</td>\n      <td>15.61</td>\n      <td>15.12</td>\n      <td>1061011.0</td>\n      <td>1.623376e+09</td>\n      <td>2020</td>\n      <td>9</td>\n      <td>24</td>\n      <td>15</td>\n      <td>0</td>\n      <td>2020-09-24 15:00</td>\n    </tr>\n    <tr>\n      <th>5</th>\n      <td>15.20</td>\n      <td>15.19</td>\n      <td>15.31</td>\n      <td>15.11</td>\n      <td>614087.0</td>\n      <td>9.330351e+08</td>\n      <td>2020</td>\n      <td>9</td>\n      <td>25</td>\n      <td>15</td>\n      <td>0</td>\n      <td>2020-09-25 15:00</td>\n    </tr>\n    <tr>\n      <th>6</th>\n      <td>15.19</td>\n      <td>15.31</td>\n      <td>15.37</td>\n      <td>14.98</td>\n      <td>612711.0</td>\n      <td>9.328008e+08</td>\n      <td>2020</td>\n      <td>9</td>\n      <td>28</td>\n      <td>15</td>\n      <td>0</td>\n      <td>2020-09-28 15:00</td>\n    </tr>\n    <tr>\n      <th>7</th>\n      <td>15.39</td>\n      <td>14.80</td>\n      <td>15.41</td>\n      <td>14.76</td>\n      <td>1182374.0</td>\n      <td>1.766849e+09</td>\n      <td>2020</td>\n      <td>9</td>\n      <td>29</td>\n      <td>15</td>\n      <td>0</td>\n      <td>2020-09-29 15:00</td>\n    </tr>\n    <tr>\n      <th>8</th>\n      <td>14.80</td>\n      <td>15.17</td>\n      <td>15.27</td>\n      <td>14.80</td>\n      <td>1217064.0</td>\n      <td>1.838548e+09</td>\n      <td>2020</td>\n      <td>9</td>\n      <td>30</td>\n      <td>15</td>\n      <td>0</td>\n      <td>2020-09-30 15:00</td>\n    </tr>\n    <tr>\n      <th>9</th>\n      <td>15.30</td>\n      <td>15.16</td>\n      <td>15.55</td>\n      <td>15.15</td>\n      <td>812136.0</td>\n      <td>1.243175e+09</td>\n      <td>2020</td>\n      <td>10</td>\n      <td>9</td>\n      <td>15</td>\n      <td>0</td>\n      <td>2020-10-09 15:00</td>\n    </tr>\n  </tbody>\n</table>\n</div>"
     },
     "metadata": {},
     "execution_count": 4
    }
   ],
   "source": [
    "data"
   ]
  },
  {
   "cell_type": "code",
   "execution_count": 6,
   "metadata": {},
   "outputs": [
    {
     "output_type": "execute_result",
     "data": {
      "text/plain": "[OrderedDict([('market', 0),\n              ('code', '000001'),\n              ('active1', 4292),\n              ('price', 15.18),\n              ('last_close', 15.17),\n              ('open', 15.3),\n              ('high', 15.55),\n              ('low', 15.15),\n              ('servertime', '14:38:14.298'),\n              ('reversed_bytes0', 14382383),\n              ('reversed_bytes1', -1518),\n              ('vol', 821474),\n              ('cur_vol', 49),\n              ('amount', 1257337984.0),\n              ('s_vol', 352028),\n              ('b_vol', 469446),\n              ('reversed_bytes2', 0),\n              ('reversed_bytes3', 207932),\n              ('bid1', 15.17),\n              ('ask1', 15.18),\n              ('bid_vol1', 2256),\n              ('ask_vol1', 489),\n              ('bid2', 15.16),\n              ('ask2', 15.19),\n              ('bid_vol2', 1465),\n              ('ask_vol2', 149),\n              ('bid3', 15.15),\n              ('ask3', 15.2),\n              ('bid_vol3', 2609),\n              ('ask_vol3', 1345),\n              ('bid4', 15.14),\n              ('ask4', 15.21),\n              ('bid_vol4', 1417),\n              ('ask_vol4', 1068),\n              ('bid5', 15.13),\n              ('ask5', 15.22),\n              ('bid_vol5', 1890),\n              ('ask_vol5', 1632),\n              ('reversed_bytes4', (2508,)),\n              ('reversed_bytes5', 1),\n              ('reversed_bytes6', -15),\n              ('reversed_bytes7', -57),\n              ('reversed_bytes8', 18),\n              ('reversed_bytes9', 0.13),\n              ('active2', 4292)]),\n OrderedDict([('market', 1),\n              ('code', '600300'),\n              ('active1', 1506),\n              ('price', 3.83),\n              ('last_close', 3.76),\n              ('open', 3.84),\n              ('high', 3.87),\n              ('low', 3.78),\n              ('servertime', '14:38:22.308'),\n              ('reversed_bytes0', 14383718),\n              ('reversed_bytes1', -383),\n              ('vol', 142069),\n              ('cur_vol', 3),\n              ('amount', 54442668.0),\n              ('s_vol', 64372),\n              ('b_vol', 77697),\n              ('reversed_bytes2', 0),\n              ('reversed_bytes3', 9166),\n              ('bid1', 3.83),\n              ('ask1', 3.84),\n              ('bid_vol1', 5786),\n              ('ask_vol1', 613),\n              ('bid2', 3.82),\n              ('ask2', 3.85),\n              ('bid_vol2', 2468),\n              ('ask_vol2', 4626),\n              ('bid3', 3.81),\n              ('ask3', 3.86),\n              ('bid_vol3', 3552),\n              ('ask_vol3', 5599),\n              ('bid4', 3.8),\n              ('ask4', 3.87),\n              ('bid_vol4', 4784),\n              ('ask_vol4', 5455),\n              ('bid5', 3.79),\n              ('ask5', 3.88),\n              ('bid_vol5', 1994),\n              ('ask_vol5', 3465),\n              ('reversed_bytes4', (3085,)),\n              ('reversed_bytes5', 1),\n              ('reversed_bytes6', -7),\n              ('reversed_bytes7', -16),\n              ('reversed_bytes8', -2),\n              ('reversed_bytes9', -0.25),\n              ('active2', 1506)])]"
     },
     "metadata": {},
     "execution_count": 6
    }
   ],
   "source": [
    "data1"
   ]
  },
  {
   "cell_type": "code",
   "execution_count": 9,
   "metadata": {},
   "outputs": [],
   "source": [
    "from insider import StockInsider"
   ]
  },
  {
   "cell_type": "code",
   "execution_count": 10,
   "metadata": {},
   "outputs": [
    {
     "output_type": "error",
     "ename": "ValueError",
     "evalue": "14 columns passed, passed data had 15 columns",
     "traceback": [
      "\u001b[1;31m---------------------------------------------------------------------------\u001b[0m",
      "\u001b[1;31mAssertionError\u001b[0m                            Traceback (most recent call last)",
      "\u001b[1;32mD:\\python38\\lib\\site-packages\\pandas\\core\\internals\\construction.py\u001b[0m in \u001b[0;36m_list_to_arrays\u001b[1;34m(data, columns, coerce_float, dtype)\u001b[0m\n\u001b[0;32m    563\u001b[0m     \u001b[1;32mtry\u001b[0m\u001b[1;33m:\u001b[0m\u001b[1;33m\u001b[0m\u001b[1;33m\u001b[0m\u001b[0m\n\u001b[1;32m--> 564\u001b[1;33m         \u001b[0mcolumns\u001b[0m \u001b[1;33m=\u001b[0m \u001b[0m_validate_or_indexify_columns\u001b[0m\u001b[1;33m(\u001b[0m\u001b[0mcontent\u001b[0m\u001b[1;33m,\u001b[0m \u001b[0mcolumns\u001b[0m\u001b[1;33m)\u001b[0m\u001b[1;33m\u001b[0m\u001b[1;33m\u001b[0m\u001b[0m\n\u001b[0m\u001b[0;32m    565\u001b[0m         \u001b[0mresult\u001b[0m \u001b[1;33m=\u001b[0m \u001b[0m_convert_object_array\u001b[0m\u001b[1;33m(\u001b[0m\u001b[0mcontent\u001b[0m\u001b[1;33m,\u001b[0m \u001b[0mdtype\u001b[0m\u001b[1;33m=\u001b[0m\u001b[0mdtype\u001b[0m\u001b[1;33m,\u001b[0m \u001b[0mcoerce_float\u001b[0m\u001b[1;33m=\u001b[0m\u001b[0mcoerce_float\u001b[0m\u001b[1;33m)\u001b[0m\u001b[1;33m\u001b[0m\u001b[1;33m\u001b[0m\u001b[0m\n",
      "\u001b[1;32mD:\\python38\\lib\\site-packages\\pandas\\core\\internals\\construction.py\u001b[0m in \u001b[0;36m_validate_or_indexify_columns\u001b[1;34m(content, columns)\u001b[0m\n\u001b[0;32m    687\u001b[0m             \u001b[1;31m# caller's responsibility to check for this...\u001b[0m\u001b[1;33m\u001b[0m\u001b[1;33m\u001b[0m\u001b[1;33m\u001b[0m\u001b[0m\n\u001b[1;32m--> 688\u001b[1;33m             raise AssertionError(\n\u001b[0m\u001b[0;32m    689\u001b[0m                 \u001b[1;34mf\"{len(columns)} columns passed, passed data had \"\u001b[0m\u001b[1;33m\u001b[0m\u001b[1;33m\u001b[0m\u001b[0m\n",
      "\u001b[1;31mAssertionError\u001b[0m: 14 columns passed, passed data had 15 columns",
      "\nThe above exception was the direct cause of the following exception:\n",
      "\u001b[1;31mValueError\u001b[0m                                Traceback (most recent call last)",
      "\u001b[1;32m<ipython-input-10-85688f33af16>\u001b[0m in \u001b[0;36m<module>\u001b[1;34m\u001b[0m\n\u001b[1;32m----> 1\u001b[1;33m \u001b[0msi\u001b[0m \u001b[1;33m=\u001b[0m \u001b[0mStockInsider\u001b[0m\u001b[1;33m(\u001b[0m\u001b[1;34m\"sz002516\"\u001b[0m\u001b[1;33m)\u001b[0m\u001b[1;33m\u001b[0m\u001b[1;33m\u001b[0m\u001b[0m\n\u001b[0m",
      "\u001b[1;32mD:\\python38\\lib\\site-packages\\insider\\stock_insider.py\u001b[0m in \u001b[0;36m__init__\u001b[1;34m(self, code, ktype, df)\u001b[0m\n\u001b[0;32m     34\u001b[0m             \u001b[0mself\u001b[0m\u001b[1;33m.\u001b[0m\u001b[0mstock_code\u001b[0m \u001b[1;33m=\u001b[0m \u001b[0mcode\u001b[0m\u001b[1;33m\u001b[0m\u001b[1;33m\u001b[0m\u001b[0m\n\u001b[0;32m     35\u001b[0m         \u001b[1;32melse\u001b[0m\u001b[1;33m:\u001b[0m\u001b[1;33m\u001b[0m\u001b[1;33m\u001b[0m\u001b[0m\n\u001b[1;32m---> 36\u001b[1;33m             \u001b[0msuper\u001b[0m\u001b[1;33m(\u001b[0m\u001b[1;33m)\u001b[0m\u001b[1;33m.\u001b[0m\u001b[0m__init__\u001b[0m\u001b[1;33m(\u001b[0m\u001b[0mcode\u001b[0m\u001b[1;33m,\u001b[0m \u001b[0mktype\u001b[0m\u001b[1;33m)\u001b[0m\u001b[1;33m\u001b[0m\u001b[1;33m\u001b[0m\u001b[0m\n\u001b[0m\u001b[0;32m     37\u001b[0m \u001b[1;33m\u001b[0m\u001b[0m\n\u001b[0;32m     38\u001b[0m     \u001b[1;33m@\u001b[0m\u001b[0mclassmethod\u001b[0m\u001b[1;33m\u001b[0m\u001b[1;33m\u001b[0m\u001b[0m\n",
      "\u001b[1;32mD:\\python38\\lib\\site-packages\\insider\\stock.py\u001b[0m in \u001b[0;36m__init__\u001b[1;34m(self, code, ktype)\u001b[0m\n\u001b[0;32m     35\u001b[0m         \u001b[0mself\u001b[0m\u001b[1;33m.\u001b[0m\u001b[0murl\u001b[0m \u001b[1;33m=\u001b[0m \u001b[0mSTOCK_URL\u001b[0m\u001b[1;33m.\u001b[0m\u001b[0mformat\u001b[0m\u001b[1;33m(\u001b[0m\u001b[0mktype\u001b[0m\u001b[1;33m=\u001b[0m\u001b[0mself\u001b[0m\u001b[1;33m.\u001b[0m\u001b[0mconverted_ktype\u001b[0m\u001b[1;33m,\u001b[0m \u001b[0mcode\u001b[0m\u001b[1;33m=\u001b[0m\u001b[0mself\u001b[0m\u001b[1;33m.\u001b[0m\u001b[0mcode\u001b[0m\u001b[1;33m)\u001b[0m\u001b[1;33m\u001b[0m\u001b[1;33m\u001b[0m\u001b[0m\n\u001b[0;32m     36\u001b[0m \u001b[1;33m\u001b[0m\u001b[0m\n\u001b[1;32m---> 37\u001b[1;33m         \u001b[0mself\u001b[0m\u001b[1;33m.\u001b[0m\u001b[0m_df\u001b[0m \u001b[1;33m=\u001b[0m \u001b[0mself\u001b[0m\u001b[1;33m.\u001b[0m\u001b[0m_get_stock_data\u001b[0m\u001b[1;33m(\u001b[0m\u001b[1;33m)\u001b[0m\u001b[1;33m\u001b[0m\u001b[1;33m\u001b[0m\u001b[0m\n\u001b[0m\u001b[0;32m     38\u001b[0m \u001b[1;33m\u001b[0m\u001b[0m\n\u001b[0;32m     39\u001b[0m     \u001b[1;32mdef\u001b[0m \u001b[0m_check_code\u001b[0m\u001b[1;33m(\u001b[0m\u001b[0mself\u001b[0m\u001b[1;33m,\u001b[0m \u001b[0mcode\u001b[0m\u001b[1;33m:\u001b[0m \u001b[0mstr\u001b[0m\u001b[1;33m)\u001b[0m \u001b[1;33m->\u001b[0m \u001b[0mstr\u001b[0m\u001b[1;33m:\u001b[0m\u001b[1;33m\u001b[0m\u001b[1;33m\u001b[0m\u001b[0m\n",
      "\u001b[1;32mD:\\python38\\lib\\site-packages\\insider\\stock.py\u001b[0m in \u001b[0;36m_get_stock_data\u001b[1;34m(self)\u001b[0m\n\u001b[0;32m     66\u001b[0m             \u001b[0mdata\u001b[0m \u001b[1;33m=\u001b[0m \u001b[0mr\u001b[0m\u001b[1;33m.\u001b[0m\u001b[0mjson\u001b[0m\u001b[1;33m(\u001b[0m\u001b[1;33m)\u001b[0m\u001b[1;33m[\u001b[0m\u001b[1;34m\"record\"\u001b[0m\u001b[1;33m]\u001b[0m\u001b[1;33m\u001b[0m\u001b[1;33m\u001b[0m\u001b[0m\n\u001b[0;32m     67\u001b[0m             \u001b[1;32mif\u001b[0m \u001b[0mdata\u001b[0m\u001b[1;33m:\u001b[0m\u001b[1;33m\u001b[0m\u001b[1;33m\u001b[0m\u001b[0m\n\u001b[1;32m---> 68\u001b[1;33m                 \u001b[0mdf\u001b[0m \u001b[1;33m=\u001b[0m \u001b[0mpd\u001b[0m\u001b[1;33m.\u001b[0m\u001b[0mDataFrame\u001b[0m\u001b[1;33m(\u001b[0m\u001b[0mdata\u001b[0m\u001b[1;33m,\u001b[0m \u001b[0mcolumns\u001b[0m\u001b[1;33m=\u001b[0m\u001b[0mDAY_COL\u001b[0m \u001b[1;33m+\u001b[0m \u001b[0mNUMERIC_COLUMNS\u001b[0m\u001b[1;33m)\u001b[0m\u001b[1;33m\u001b[0m\u001b[1;33m\u001b[0m\u001b[0m\n\u001b[0m\u001b[0;32m     69\u001b[0m                 df[NUMERIC_COLUMNS] = (\n\u001b[0;32m     70\u001b[0m                     \u001b[0mdf\u001b[0m\u001b[1;33m[\u001b[0m\u001b[0mNUMERIC_COLUMNS\u001b[0m\u001b[1;33m]\u001b[0m\u001b[1;33m\u001b[0m\u001b[1;33m\u001b[0m\u001b[0m\n",
      "\u001b[1;32mD:\\python38\\lib\\site-packages\\pandas\\core\\frame.py\u001b[0m in \u001b[0;36m__init__\u001b[1;34m(self, data, index, columns, dtype, copy)\u001b[0m\n\u001b[0;32m    506\u001b[0m                     \u001b[1;32mif\u001b[0m \u001b[0mis_named_tuple\u001b[0m\u001b[1;33m(\u001b[0m\u001b[0mdata\u001b[0m\u001b[1;33m[\u001b[0m\u001b[1;36m0\u001b[0m\u001b[1;33m]\u001b[0m\u001b[1;33m)\u001b[0m \u001b[1;32mand\u001b[0m \u001b[0mcolumns\u001b[0m \u001b[1;32mis\u001b[0m \u001b[1;32mNone\u001b[0m\u001b[1;33m:\u001b[0m\u001b[1;33m\u001b[0m\u001b[1;33m\u001b[0m\u001b[0m\n\u001b[0;32m    507\u001b[0m                         \u001b[0mcolumns\u001b[0m \u001b[1;33m=\u001b[0m \u001b[0mdata\u001b[0m\u001b[1;33m[\u001b[0m\u001b[1;36m0\u001b[0m\u001b[1;33m]\u001b[0m\u001b[1;33m.\u001b[0m\u001b[0m_fields\u001b[0m\u001b[1;33m\u001b[0m\u001b[1;33m\u001b[0m\u001b[0m\n\u001b[1;32m--> 508\u001b[1;33m                     \u001b[0marrays\u001b[0m\u001b[1;33m,\u001b[0m \u001b[0mcolumns\u001b[0m \u001b[1;33m=\u001b[0m \u001b[0mto_arrays\u001b[0m\u001b[1;33m(\u001b[0m\u001b[0mdata\u001b[0m\u001b[1;33m,\u001b[0m \u001b[0mcolumns\u001b[0m\u001b[1;33m,\u001b[0m \u001b[0mdtype\u001b[0m\u001b[1;33m=\u001b[0m\u001b[0mdtype\u001b[0m\u001b[1;33m)\u001b[0m\u001b[1;33m\u001b[0m\u001b[1;33m\u001b[0m\u001b[0m\n\u001b[0m\u001b[0;32m    509\u001b[0m                     \u001b[0mcolumns\u001b[0m \u001b[1;33m=\u001b[0m \u001b[0mensure_index\u001b[0m\u001b[1;33m(\u001b[0m\u001b[0mcolumns\u001b[0m\u001b[1;33m)\u001b[0m\u001b[1;33m\u001b[0m\u001b[1;33m\u001b[0m\u001b[0m\n\u001b[0;32m    510\u001b[0m \u001b[1;33m\u001b[0m\u001b[0m\n",
      "\u001b[1;32mD:\\python38\\lib\\site-packages\\pandas\\core\\internals\\construction.py\u001b[0m in \u001b[0;36mto_arrays\u001b[1;34m(data, columns, coerce_float, dtype)\u001b[0m\n\u001b[0;32m    522\u001b[0m         \u001b[1;32mreturn\u001b[0m \u001b[1;33m[\u001b[0m\u001b[1;33m]\u001b[0m\u001b[1;33m,\u001b[0m \u001b[1;33m[\u001b[0m\u001b[1;33m]\u001b[0m  \u001b[1;31m# columns if columns is not None else []\u001b[0m\u001b[1;33m\u001b[0m\u001b[1;33m\u001b[0m\u001b[0m\n\u001b[0;32m    523\u001b[0m     \u001b[1;32mif\u001b[0m \u001b[0misinstance\u001b[0m\u001b[1;33m(\u001b[0m\u001b[0mdata\u001b[0m\u001b[1;33m[\u001b[0m\u001b[1;36m0\u001b[0m\u001b[1;33m]\u001b[0m\u001b[1;33m,\u001b[0m \u001b[1;33m(\u001b[0m\u001b[0mlist\u001b[0m\u001b[1;33m,\u001b[0m \u001b[0mtuple\u001b[0m\u001b[1;33m)\u001b[0m\u001b[1;33m)\u001b[0m\u001b[1;33m:\u001b[0m\u001b[1;33m\u001b[0m\u001b[1;33m\u001b[0m\u001b[0m\n\u001b[1;32m--> 524\u001b[1;33m         \u001b[1;32mreturn\u001b[0m \u001b[0m_list_to_arrays\u001b[0m\u001b[1;33m(\u001b[0m\u001b[0mdata\u001b[0m\u001b[1;33m,\u001b[0m \u001b[0mcolumns\u001b[0m\u001b[1;33m,\u001b[0m \u001b[0mcoerce_float\u001b[0m\u001b[1;33m=\u001b[0m\u001b[0mcoerce_float\u001b[0m\u001b[1;33m,\u001b[0m \u001b[0mdtype\u001b[0m\u001b[1;33m=\u001b[0m\u001b[0mdtype\u001b[0m\u001b[1;33m)\u001b[0m\u001b[1;33m\u001b[0m\u001b[1;33m\u001b[0m\u001b[0m\n\u001b[0m\u001b[0;32m    525\u001b[0m     \u001b[1;32melif\u001b[0m \u001b[0misinstance\u001b[0m\u001b[1;33m(\u001b[0m\u001b[0mdata\u001b[0m\u001b[1;33m[\u001b[0m\u001b[1;36m0\u001b[0m\u001b[1;33m]\u001b[0m\u001b[1;33m,\u001b[0m \u001b[0mabc\u001b[0m\u001b[1;33m.\u001b[0m\u001b[0mMapping\u001b[0m\u001b[1;33m)\u001b[0m\u001b[1;33m:\u001b[0m\u001b[1;33m\u001b[0m\u001b[1;33m\u001b[0m\u001b[0m\n\u001b[0;32m    526\u001b[0m         return _list_of_dict_to_arrays(\n",
      "\u001b[1;32mD:\\python38\\lib\\site-packages\\pandas\\core\\internals\\construction.py\u001b[0m in \u001b[0;36m_list_to_arrays\u001b[1;34m(data, columns, coerce_float, dtype)\u001b[0m\n\u001b[0;32m    565\u001b[0m         \u001b[0mresult\u001b[0m \u001b[1;33m=\u001b[0m \u001b[0m_convert_object_array\u001b[0m\u001b[1;33m(\u001b[0m\u001b[0mcontent\u001b[0m\u001b[1;33m,\u001b[0m \u001b[0mdtype\u001b[0m\u001b[1;33m=\u001b[0m\u001b[0mdtype\u001b[0m\u001b[1;33m,\u001b[0m \u001b[0mcoerce_float\u001b[0m\u001b[1;33m=\u001b[0m\u001b[0mcoerce_float\u001b[0m\u001b[1;33m)\u001b[0m\u001b[1;33m\u001b[0m\u001b[1;33m\u001b[0m\u001b[0m\n\u001b[0;32m    566\u001b[0m     \u001b[1;32mexcept\u001b[0m \u001b[0mAssertionError\u001b[0m \u001b[1;32mas\u001b[0m \u001b[0me\u001b[0m\u001b[1;33m:\u001b[0m\u001b[1;33m\u001b[0m\u001b[1;33m\u001b[0m\u001b[0m\n\u001b[1;32m--> 567\u001b[1;33m         \u001b[1;32mraise\u001b[0m \u001b[0mValueError\u001b[0m\u001b[1;33m(\u001b[0m\u001b[0me\u001b[0m\u001b[1;33m)\u001b[0m \u001b[1;32mfrom\u001b[0m \u001b[0me\u001b[0m\u001b[1;33m\u001b[0m\u001b[1;33m\u001b[0m\u001b[0m\n\u001b[0m\u001b[0;32m    568\u001b[0m     \u001b[1;32mreturn\u001b[0m \u001b[0mresult\u001b[0m\u001b[1;33m,\u001b[0m \u001b[0mcolumns\u001b[0m\u001b[1;33m\u001b[0m\u001b[1;33m\u001b[0m\u001b[0m\n\u001b[0;32m    569\u001b[0m \u001b[1;33m\u001b[0m\u001b[0m\n",
      "\u001b[1;31mValueError\u001b[0m: 14 columns passed, passed data had 15 columns"
     ]
    }
   ],
   "source": [
    "si = StockInsider(\"sz002516\")"
   ]
  },
  {
   "cell_type": "code",
   "execution_count": null,
   "metadata": {},
   "outputs": [],
   "source": []
  }
 ]
}